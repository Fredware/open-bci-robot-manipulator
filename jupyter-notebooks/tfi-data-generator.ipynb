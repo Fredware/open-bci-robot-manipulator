{
 "cells": [
  {
   "cell_type": "markdown",
   "id": "personal-means",
   "metadata": {},
   "source": [
    "# Time-Frequency Image (TFI) Generator\n",
    "By Fredi R. Mino\n",
    "April 2021 "
   ]
  },
  {
   "cell_type": "markdown",
   "id": "normal-shore",
   "metadata": {},
   "source": [
    "# Step 1\n",
    "Import ```brainflow``` and all other supporting libraries."
   ]
  },
  {
   "cell_type": "code",
   "execution_count": 1,
   "id": "abandoned-latest",
   "metadata": {},
   "outputs": [],
   "source": [
    "import brainflow\n",
    "from brainflow.data_filter import DataFilter, FilterTypes, AggOperations, WindowFunctions\n",
    "\n",
    "import matplotlib.pyplot as plt\n",
    "\n",
    "import numpy as np\n",
    "\n",
    "import os\n",
    "\n",
    "from scipy import signal\n",
    "\n",
    "from tifffile import imread, imwrite"
   ]
  },
  {
   "cell_type": "markdown",
   "id": "powered-microphone",
   "metadata": {},
   "source": [
    "## Step 2\n",
    "Make a list of the files you wish to process. If this is your first time running the script, proceed to section a. Otherwise, move on to section b."
   ]
  },
  {
   "cell_type": "markdown",
   "id": "pacific-porcelain",
   "metadata": {},
   "source": [
    "### Section A\n",
    "List all raw data files present in your data recording directory. Remove specific files by changing the argument in ```filenames.reomve()```"
   ]
  },
  {
   "cell_type": "code",
   "execution_count": 2,
   "id": "boring-greece",
   "metadata": {},
   "outputs": [],
   "source": [
    "filepath = '../pycharm-projects/'\n",
    "filenames = []\n",
    "\n",
    "for file in os.listdir(\"../pycharm-projects\"):\n",
    "    if file.lower().endswith(\".csv\"):\n",
    "        filenames.append(file)\n",
    "\n",
    "bad_files = ['ses_02_run_01.csv', 'ses_08_run_02.csv', 'ses_12_run_01.csv', 'ses_14_run_03.csv']\n",
    "\n",
    "for bad_file in bad_files:\n",
    "    filenames.remove(bad_file)"
   ]
  },
  {
   "cell_type": "markdown",
   "id": "filled-dayton",
   "metadata": {},
   "source": [
    "### Section B\n",
    "List only the raw data files of a particular session. Change the value of ```ses_num``` accordingly."
   ]
  },
  {
   "cell_type": "code",
   "execution_count": null,
   "id": "combined-possible",
   "metadata": {},
   "outputs": [],
   "source": [
    "ses_num = 14\n",
    "filenames = ['ses_{:02d}_run_01.csv'.format(ses_num), 'ses_{:02d}_run_02.csv'.format(ses_num), 'ses_{:02d}_run_03.csv'.format(ses_num)]"
   ]
  },
  {
   "cell_type": "markdown",
   "id": "angry-plant",
   "metadata": {},
   "source": [
    "## Step 3\n",
    "Verify the list of files to use in the script."
   ]
  },
  {
   "cell_type": "code",
   "execution_count": 3,
   "id": "scenic-cylinder",
   "metadata": {},
   "outputs": [
    {
     "name": "stdout",
     "output_type": "stream",
     "text": [
      "['ses_01_run_01.csv', 'ses_01_run_02.csv', 'ses_01_run_03.csv', 'ses_02_run_02.csv', 'ses_02_run_03.csv', 'ses_03_run_01.csv', 'ses_03_run_02.csv', 'ses_03_run_03.csv', 'ses_04_run_01.csv', 'ses_04_run_02.csv', 'ses_04_run_03.csv', 'ses_05_run_01.csv', 'ses_05_run_02.csv', 'ses_05_run_03.csv', 'ses_06_run_01.csv', 'ses_06_run_02.csv', 'ses_06_run_03.csv', 'ses_07_run_01.csv', 'ses_07_run_02.csv', 'ses_07_run_03.csv', 'ses_08_run_01.csv', 'ses_08_run_03.csv', 'ses_09_run_01.csv', 'ses_09_run_02.csv', 'ses_09_run_03.csv', 'ses_10_run_01.csv', 'ses_10_run_02.csv', 'ses_10_run_03.csv', 'ses_11_run_01.csv', 'ses_11_run_02.csv', 'ses_11_run_03.csv', 'ses_12_run_02.csv', 'ses_12_run_03.csv', 'ses_13_run_01.csv', 'ses_13_run_02.csv', 'ses_13_run_03.csv', 'ses_14_run_01.csv', 'ses_14_run_02.csv']\n"
     ]
    }
   ],
   "source": [
    "print(filenames)"
   ]
  },
  {
   "cell_type": "markdown",
   "id": "accurate-affairs",
   "metadata": {},
   "source": [
    "## Step 4\n",
    "Specify metadata like the sampling frequency used during the recording, the channels you want to process, and the condition labels and the event codes that you want to look at."
   ]
  },
  {
   "cell_type": "code",
   "execution_count": 4,
   "id": "round-standing",
   "metadata": {},
   "outputs": [],
   "source": [
    "eeg_channels = [1, 2, 3, 4, 5, 6, 7, 8]\n",
    "fs = 250\n",
    "\n",
    "condition_label = ['none', 'up', 'down', 'left', 'right', 'cross', 'idle']\n",
    "conditions = [1, 2, 3, 4, 6]"
   ]
  },
  {
   "cell_type": "markdown",
   "id": "marine-possibility",
   "metadata": {},
   "source": [
    "## Step 5\n",
    "Code adapted from the ```brainflow``` tutorials. For each file, apply all your filters to each channel. Then, find all the time stamps that match the event codes of a particular condition, and make a TFI for each matching time stamp."
   ]
  },
  {
   "cell_type": "code",
   "execution_count": 8,
   "id": "specialized-backing",
   "metadata": {},
   "outputs": [
    {
     "name": "stdout",
     "output_type": "stream",
     "text": [
      "ses_01_run_01.csv\n",
      "[ 7095 11063 23328 25372]\n",
      "[ 3007 13107 15151 17195]\n",
      "[ 9019 19239 21284 29460]\n",
      "[  963  5051 27416 31504]\n",
      "[16233  8057  1925  6013]\n",
      "===============================================================================\n",
      "ses_01_run_02.csv\n",
      "[  962  9019 23328 29460]\n",
      "[ 7095 17195 19239 31504]\n",
      "[ 5051 15151 21283 25372]\n",
      "[ 3007 11063 13107 27416]\n",
      "[ 8057 20321 24289 14189]\n",
      "===============================================================================\n",
      "ses_01_run_03.csv\n",
      "[ 3007 21283 25372 31504]\n",
      "[  962  9019 15151 27416]\n",
      "[11063 17195 19239 29460]\n",
      "[ 4930  6975 13107 23328]\n",
      "[ 8057 20201 12145 22245]\n",
      "===============================================================================\n",
      "ses_02_run_02.csv\n",
      "[  964  3008  7096 15153]\n",
      "[17197 21285 23329 31385]\n",
      "[ 5052  9020 11064 13109]\n",
      "[19241 25373 27297 29341]\n",
      "[14191 20203  6014  1926]\n",
      "===============================================================================\n",
      "ses_02_run_03.csv\n",
      "[  964  5052  7096 13108]\n",
      "[ 9020 15153 17197 29461]\n",
      "[11064 21285 23329 25373]\n",
      "[ 3008 19241 27417 31506]\n",
      "[ 6014 28379  1926 10102]\n",
      "===============================================================================\n",
      "ses_03_run_01.csv\n",
      "[ 9019 11063 15187 17231]\n",
      "[  963 25287 29375 31420]\n",
      "[ 3007  7095 13143 21199]\n",
      "[ 5051 19275 23243 27331]\n",
      "[14105 28414 10101  1925]\n",
      "===============================================================================\n",
      "ses_03_run_02.csv\n",
      "[  963  5052  9140 13108]\n",
      "[11184 15152 23328 27417]\n",
      "[ 7096 17196 19240 29461]\n",
      "[ 3007 21284 25373 31505]\n",
      "[26335  6014  3969  1925]\n",
      "===============================================================================\n",
      "ses_03_run_03.csv\n",
      "[  963  3007 11063 13108]\n",
      "[ 5051 17196 23328 25252]\n",
      "[ 6975  9019 19240 31384]\n",
      "[15152 21284 27296 29340]\n",
      "[16114  8057  1925 10101]\n",
      "===============================================================================\n",
      "ses_04_run_01.csv\n",
      "[ 3008 15153 27297 31385]\n",
      "[ 4932 11064 13109 29341]\n",
      "[  964 17197 19241 23329]\n",
      "[ 6976  9020 21285 25253]\n",
      "[14070 12147  1926  6014]\n",
      "===============================================================================\n",
      "ses_04_run_02.csv\n",
      "[ 4932 11064 23209 29341]\n",
      "[13108 15152 19241 21164]\n",
      "[  964  6976  9020 27297]\n",
      "[ 3008 17196 25253 31385]\n",
      "[28259 26335  3970 24291]\n",
      "===============================================================================\n",
      "ses_04_run_03.csv\n",
      "[ 6975 13108 27296 29340]\n",
      "[  963 11063 15152 17076]\n",
      "[ 3007  4931 19120 23208]\n",
      "[ 9019 21164 25252 31384]\n",
      "[ 3969  6013 26214 30302]\n",
      "===============================================================================\n",
      "ses_05_run_01.csv\n",
      "[  963 11094 15062 27082]\n",
      "[ 4920 13018 29127 31171]\n",
      "[ 6978  9050 19072 23004]\n",
      "[ 3008 17106 21109 25038]\n",
      "[26000 24069  3958 22078]\n",
      "===============================================================================\n",
      "ses_05_run_02.csv\n",
      "[  978 25216 27256 29179]\n",
      "[ 2902  4946 15045 19133]\n",
      "[ 9035 11079 23172 31223]\n",
      "[ 6991 13002 17089 21177]\n",
      "[ 7953 16127 24134 14083]\n",
      "===============================================================================\n",
      "ses_05_run_03.csv\n",
      "[ 9019 19239 25251 31384]\n",
      "[  962  3007 27296 29340]\n",
      "[ 5051 13107 15151 21283]\n",
      "[ 6975 11063 17195 23328]\n",
      "[ 8057 20201  3969 26334]\n",
      "===============================================================================\n",
      "ses_06_run_01.csv\n",
      "[  963 17196 21284 27296]\n",
      "[ 5051  9019 23328 29340]\n",
      "[11063 19240 25252 31384]\n",
      "[ 3007  6975 13108 15152]\n",
      "[28378 20202  6013 26334]\n",
      "===============================================================================\n",
      "ses_06_run_02.csv\n",
      "[  962  4930  6975 15151]\n",
      "[ 3007  9019 23207 31384]\n",
      "[13107 17195 19119 29340]\n",
      "[11063 21163 25251 27296]\n",
      "[14069  3969 26334 28378]\n",
      "===============================================================================\n",
      "ses_06_run_03.csv\n",
      "[ 3007 15151 25372 31384]\n",
      "[ 9019 13107 19239 23328]\n",
      "[  962  5051 21283 29340]\n",
      "[ 7095 11063 17195 27296]\n",
      "[18157 22245 24289  8057]\n",
      "===============================================================================\n",
      "ses_07_run_01.csv\n",
      "[17075 19119 21163 29219]\n",
      "[  962  6975  9019 11063]\n",
      "[ 3007  4930 13107 27175]\n",
      "[15031 23207 25131 31264]\n",
      "[16113 18157  8057  6013]\n",
      "===============================================================================\n",
      "ses_07_run_02.csv\n",
      "[  963  6975 15031 29340]\n",
      "[ 3007  4931 17076 19120]\n",
      "[ 9019 11063 13108 31264]\n",
      "[21164 23208 25252 27296]\n",
      "[ 1925  3969 16114 18158]\n",
      "===============================================================================\n",
      "ses_07_run_03.csv\n",
      "[  962  9019 21163 25241]\n",
      "[ 3007 15151 27294 31261]\n",
      "[ 6975 11063 17195 29303]\n",
      "[ 5051 13107 19119 23247]\n",
      "[ 1924 26215  6013 30325]\n",
      "===============================================================================\n",
      "ses_08_run_01.csv\n",
      "[ 5052  9020 15121 29430]\n",
      "[13108 21254 27386 31474]\n",
      "[ 7096 11064 23298 25342]\n",
      "[  963  3007 17166 19210]\n",
      "[ 8058 12146 28348 24260]\n",
      "===============================================================================\n",
      "ses_08_run_03.csv\n",
      "[ 5051 15151 19239 29460]\n",
      "[13107 17195 21283 31384]\n",
      "[  962  3007  7095 27416]\n",
      "[ 9019 11063 23328 25372]\n",
      "[26334 16233 22245  8057]\n",
      "===============================================================================\n",
      "ses_09_run_01.csv\n",
      "[ 3008 17226 21194 23238]\n",
      "[  964  7005 13138 31415]\n",
      "[ 4961 11094 25282 27326]\n",
      "[ 9049 15182 19270 29370]\n",
      "[18188 12055 16144  6043]\n",
      "===============================================================================\n",
      "ses_09_run_02.csv\n",
      "[ 3007 13107 15151 25251]\n",
      "[ 5051 19239 23207 31384]\n",
      "[  962  6975 11063 29340]\n",
      "[ 9019 17195 21283 27296]\n",
      "[30422 14189 26334 20201]\n",
      "===============================================================================\n",
      "ses_09_run_03.csv\n",
      "[ 2976  5020 17165 21253]\n",
      "[  932  7064 25341 27385]\n",
      "[ 9108 13197 29429 31474]\n",
      "[11153 15241 19209 23297]\n",
      "[14159 20291 18247 16203]\n",
      "===============================================================================\n",
      "ses_10_run_01.csv\n",
      "[ 6752 16860 22940 26927]\n",
      "[ 2649 14823 28971 31022]\n",
      "[ 8754 18885 20929 24895]\n",
      "[  890  4764 10778 12783]\n",
      "[17849 13798 29940  5699]\n",
      "===============================================================================\n",
      "ses_10_run_02.csv\n",
      "[ 5037 11049 27281 29325]\n",
      "[ 2993 17182 23313 25237]\n",
      "[ 9005 15137 21269 31369]\n",
      "[  956  6961 13093 19225]\n",
      "[30407  8043 26319 16099]\n",
      "===============================================================================\n",
      "ses_10_run_03.csv\n",
      "[ 2880 12955 21049 31237]\n",
      "[ 4905  8903 17013 23154]\n",
      "[10924 19129 27176 29199]\n",
      "[  786  6908 15079 25171]\n",
      "[14016 10018 16071  1852]\n",
      "===============================================================================\n",
      "ses_11_run_01.csv\n",
      "[  962  6975 17176 19220]\n",
      "[ 5051  9019 25232 31364]\n",
      "[11043 13088 23308 29320]\n",
      "[ 3007 15132 21264 27276]\n",
      "[ 3969 10081  1924 26314]\n",
      "===============================================================================\n",
      "ses_11_run_02.csv\n",
      "[ 3007 11063 21163 31384]\n",
      "[ 4930 15151 23207 27296]\n",
      "[  962  6975 13107 17195]\n",
      "[ 9019 19239 25251 29340]\n",
      "[18157  6013  1924  3969]\n",
      "===============================================================================\n",
      "ses_11_run_03.csv\n",
      "[ 3007 11063 15152 23208]\n",
      "[ 5051 19240 27296 29340]\n",
      "[  963 13108 25252 31384]\n",
      "[ 6975  9019 17196 21284]\n",
      "[18158 22246 16114 20202]\n",
      "===============================================================================\n",
      "ses_12_run_02.csv\n",
      "[13108 21284 25253 29340]\n",
      "[  964  3008  6975 15152]\n",
      "[ 5052  9019 11064 31385]\n",
      "[17196 19240 23328 27296]\n",
      "[18158 30423 12146 20202]\n",
      "===============================================================================\n",
      "ses_12_run_03.csv\n",
      "[17172 21206 27409 29333]\n",
      "[ 9116 13084 15128 31377]\n",
      "[ 2984  7072 19216 25365]\n",
      "[  963  5028 11040 23320]\n",
      "[28371 12122  3946 30415]\n",
      "===============================================================================\n",
      "ses_13_run_01.csv\n",
      "[ 3006 17074 25251 31383]\n",
      "[15030 21163 27295 29339]\n",
      "[  962  6974 13106 23207]\n",
      "[ 4930  9018 11062 19118]\n",
      "[ 1924 28257 30301  7936]\n",
      "===============================================================================\n",
      "ses_13_run_02.csv\n",
      "[ 9019 23208 25252 29340]\n",
      "[ 4990 17196 19240 31384]\n",
      "[  963 13107 15151 21164]\n",
      "[ 3007  6975 11063 27296]\n",
      "[10101 24290  6013 18158]\n",
      "===============================================================================\n",
      "ses_13_run_03.csv\n",
      "[13115 15159 21171 27328]\n",
      "[ 6982 19127 23239 31294]\n",
      "[  964  4938  9027 17083]\n",
      "[ 2894 11071 25284 29250]\n",
      "[22253 18165 26246  7944]\n",
      "===============================================================================\n",
      "ses_14_run_01.csv\n"
     ]
    },
    {
     "name": "stdout",
     "output_type": "stream",
     "text": [
      "[  962  3007 19239 31384]\n",
      "[ 9019 13107 23328 29340]\n",
      "[ 4984 17195 21283 27296]\n",
      "[ 6975 11063 15151 25251]\n",
      "[22245 30422 26334 28378]\n",
      "===============================================================================\n",
      "ses_14_run_02.csv\n",
      "[ 3007  7095 13107 17195]\n",
      "[11063 21283 27296 31384]\n",
      "[ 5051  9019 15151 19239]\n",
      "[  962 23328 25251 29340]\n",
      "[ 8057  1924 20201 16233]\n",
      "===============================================================================\n"
     ]
    }
   ],
   "source": [
    "for filename in filenames:\n",
    "    print(filename)\n",
    "    data = DataFilter.read_file(filepath + filename)\n",
    "    \n",
    "    for channel in eeg_channels:\n",
    "        DataFilter.perform_highpass(data[channel], fs, 0.5, 4, FilterTypes.BUTTERWORTH.value, 0)\n",
    "        DataFilter.perform_bandstop(data[channel], fs, 60.0, 2.0, 4, FilterTypes.BUTTERWORTH.value, 0)\n",
    "        DataFilter.perform_bandpass(data[channel], fs, 19.0, 12.0, 4, FilterTypes.BUTTERWORTH.value, 0)\n",
    "        \n",
    "    for condition in conditions:\n",
    "        cond_check = data[-1] == condition\n",
    "        markers = np.where(cond_check)[0]\n",
    "    \n",
    "        if condition_label[condition] == 'idle':\n",
    "            markers = np.delete(markers, 0)\n",
    "            markers = np.random.choice(markers, 4, replace=False)\n",
    "    \n",
    "        print(markers)\n",
    "    \n",
    "        for marker in markers:\n",
    "            first_channel = True\n",
    "            for channel in eeg_channels:\n",
    "\n",
    "                stft_data = data[channel, marker + int(0.5*fs) : marker + int(3.5*fs)].copy()\n",
    "                f, t, Zxx = signal.stft(stft_data, fs, nperseg = 128, noverlap=127, nfft= 256)\n",
    "                spectro = np.asarray(Zxx[7:32, :])\n",
    "                spectro = np.abs(spectro)\n",
    "                spectro = np.expand_dims(spectro, axis=2)\n",
    "\n",
    "                if first_channel:\n",
    "                    spectro_img = spectro.copy()\n",
    "                    first_channel = False\n",
    "                else:\n",
    "                    spectro_img = np.dstack((spectro_img, spectro))\n",
    "            img_name = f'./img_data/move_{condition_label[condition]}/{filename[0:13]}_{marker}.tif'\n",
    "            imwrite(img_name, spectro_img, planarconfig='CONTIG')\n",
    "    print('='*79)"
   ]
  },
  {
   "cell_type": "markdown",
   "id": "aging-sarah",
   "metadata": {},
   "source": [
    "## Step 6\n",
    "Verify the shape of the spectrogram, and display one of the channels of the last image that was generated."
   ]
  },
  {
   "cell_type": "code",
   "execution_count": 9,
   "id": "lesbian-sherman",
   "metadata": {
    "scrolled": true
   },
   "outputs": [
    {
     "name": "stdout",
     "output_type": "stream",
     "text": [
      "(25, 751, 8)\n"
     ]
    },
    {
     "data": {
      "image/png": "[encoded data removed]",
      "text/plain": [
       "<Figure size 432x288 with 1 Axes>"
      ]
     },
     "metadata": {
      "needs_background": "light"
     },
     "output_type": "display_data"
    }
   ],
   "source": [
    "print(spectro_img.shape)\n",
    "\n",
    "plt.imshow(spectro_img[:,:,0], aspect = 'auto')\n",
    "plt.gca().invert_yaxis()"
   ]
  },
  {
   "cell_type": "code",
   "execution_count": null,
   "id": "guilty-attempt",
   "metadata": {},
   "outputs": [],
   "source": []
  }
 ],
 "metadata": {
  "kernelspec": {
   "display_name": "Python 3",
   "language": "python",
   "name": "python3"
  },
  "language_info": {
   "codemirror_mode": {
    "name": "ipython",
    "version": 3
   },
   "file_extension": ".py",
   "mimetype": "text/x-python",
   "name": "python",
   "nbconvert_exporter": "python",
   "pygments_lexer": "ipython3",
   "version": "3.8.6"
  }
 },
 "nbformat": 4,
 "nbformat_minor": 5
}
